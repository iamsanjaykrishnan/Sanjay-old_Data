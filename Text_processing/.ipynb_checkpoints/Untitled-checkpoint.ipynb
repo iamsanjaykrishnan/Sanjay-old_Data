{
 "cells": [
  {
   "cell_type": "markdown",
   "metadata": {},
   "source": [
    "# Read text from a text file"
   ]
  },
  {
   "cell_type": "code",
   "execution_count": 1,
   "metadata": {},
   "outputs": [],
   "source": [
    "import logging\n",
    "logging.basicConfig(level=logging.CRITICAL,)\n",
    "path='InputText.txt'\n",
    "input_text = open(path, 'r') "
   ]
  },
  {
   "cell_type": "code",
   "execution_count": 2,
   "metadata": {},
   "outputs": [],
   "source": [
    "raw_text=input_text.readlines()\n",
    "# remove empty lines\n",
    "Striped_text=[]\n",
    "for line in raw_text:\n",
    "    if not(line.strip()):\n",
    "        pass\n",
    "    else:\n",
    "        Striped_text.append(line)\n",
    "\n",
    "raw_text=Striped_text\n",
    "logging.debug(raw_text)"
   ]
  },
  {
   "cell_type": "markdown",
   "metadata": {},
   "source": [
    "# Import text processing libraries"
   ]
  },
  {
   "cell_type": "code",
   "execution_count": 3,
   "metadata": {},
   "outputs": [
    {
     "name": "stderr",
     "output_type": "stream",
     "text": [
      "c:\\users\\sanjay\\anaconda3\\lib\\site-packages\\gensim\\utils.py:1197: UserWarning: detected Windows; aliasing chunkize to chunkize_serial\n",
      "  warnings.warn(\"detected Windows; aliasing chunkize to chunkize_serial\")\n"
     ]
    }
   ],
   "source": [
    "import nltk\n",
    "from nltk import sent_tokenize\n",
    "import gensim"
   ]
  },
  {
   "cell_type": "markdown",
   "metadata": {},
   "source": [
    "- Remove numbers\n",
    "- make a dictionary for each sentence \n",
    "       - text \n",
    "       - author"
   ]
  },
  {
   "cell_type": "code",
   "execution_count": 6,
   "metadata": {},
   "outputs": [],
   "source": [
    "#print(raw_text[0])\n",
    "processed_senteces=[]\n",
    "logging.debug(len(raw_text))\n",
    "for i in range(len(raw_text)):\n",
    "    sentence = raw_text[i]\n",
    "    tokenized_sentence=sent_tokenize(sentence)\n",
    "    logging.debug(tokenized_sentence)\n",
    "    for j in range(len(tokenized_sentence)):\n",
    "        tokenized_sentence[j]=tokenized_sentence[j].replace('\"','')\n",
    "        tokenized_sentence[j]=tokenized_sentence[j].replace('-- ','')\n",
    "    quote=[]\n",
    "    for k in range(1,len(tokenized_sentence)-1):\n",
    "        quote+=tokenized_sentence[k]\n",
    "    quote=_.join(quote)\n",
    "    logging.debug(quote)\n",
    "    content={'quote':quote, 'author':tokenized_sentence[len(tokenized_sentence)-1]}\n",
    "    processed_senteces.append(content)\n",
    "logging.debug(processed_senteces)\n",
    "logging.debug(processed_senteces[1]['quote'])"
   ]
  },
  {
   "cell_type": "markdown",
   "metadata": {},
   "source": [
    "- create own gensim wordvector\n",
    "- Create a neural network that can read quotes and predict author"
   ]
  },
  {
   "cell_type": "code",
   "execution_count": null,
   "metadata": {},
   "outputs": [],
   "source": []
  }
 ],
 "metadata": {
  "kernelspec": {
   "display_name": "Python 3",
   "language": "python",
   "name": "python3"
  },
  "language_info": {
   "codemirror_mode": {
    "name": "ipython",
    "version": 3
   },
   "file_extension": ".py",
   "mimetype": "text/x-python",
   "name": "python",
   "nbconvert_exporter": "python",
   "pygments_lexer": "ipython3",
   "version": "3.6.4"
  }
 },
 "nbformat": 4,
 "nbformat_minor": 2
}
