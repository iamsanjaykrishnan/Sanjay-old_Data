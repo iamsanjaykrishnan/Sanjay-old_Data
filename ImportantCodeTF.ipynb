{
 "cells": [
  {
   "cell_type": "markdown",
   "metadata": {},
   "source": [
    "## Input Place Holder"
   ]
  },
  {
   "cell_type": "code",
   "execution_count": null,
   "metadata": {},
   "outputs": [],
   "source": [
    "input = tf.placeholder(dtype=tf.float32, shape=[None, 100], name='input_gen')"
   ]
  },
  {
   "cell_type": "markdown",
   "metadata": {},
   "source": [
    "## Reset graph"
   ]
  },
  {
   "cell_type": "code",
   "execution_count": null,
   "metadata": {},
   "outputs": [],
   "source": [
    "tf.reset_default_graph()"
   ]
  },
  {
   "cell_type": "markdown",
   "metadata": {},
   "source": [
    "## Scope "
   ]
  },
  {
   "cell_type": "code",
   "execution_count": null,
   "metadata": {},
   "outputs": [],
   "source": [
    "with tf.variable_scope('generator') as scope:"
   ]
  },
  {
   "cell_type": "markdown",
   "metadata": {},
   "source": [
    "## Reuse Variable"
   ]
  },
  {
   "cell_type": "code",
   "execution_count": null,
   "metadata": {},
   "outputs": [],
   "source": [
    "if reuse:\n",
    "    scope.reuse_variables()"
   ]
  },
  {
   "cell_type": "markdown",
   "metadata": {},
   "source": [
    "## Training \n",
    "- Define Loss\n",
    "- Define Optimizer\n",
    "- Iinitialize variables\n",
    "- Train in for loop"
   ]
  },
  {
   "cell_type": "code",
   "execution_count": null,
   "metadata": {},
   "outputs": [],
   "source": [
    "## loss function\n",
    "D_loss = tf.reduce_mean(D_real) - tf.reduce_mean(D_fake)\n",
    "## Get variables to be updated\n",
    "D_var=tf.get_collection(tf.GraphKeys.TRAINABLE_VARIABLES, 'Discriminator')\n",
    "## Define the update operation\n",
    "D_solver = (tf.train.RMSPropOptimizer(learning_rate=1e-4).minimize(-D_loss,var_list=D_var))\n",
    "## Initialize the variables\n",
    "sess.run(tf.global_variables_initializer())\n",
    " _, dLoss = sess.run([D_solver, D_loss],feed_dict={inp1: train_noise, Real_img: cakes_batch(batch_size)})"
   ]
  },
  {
   "cell_type": "markdown",
   "metadata": {},
   "source": [
    "## Tensorboard \n",
    "- Summary\n",
    "- Visualize "
   ]
  },
  {
   "cell_type": "code",
   "execution_count": null,
   "metadata": {},
   "outputs": [],
   "source": [
    "# create metric\n",
    "  with tf.name_scope('correct_prediction'):\n",
    "    correct_prediction = tf.equal(tf.argmax(y, 1), tf.argmax(y_, 1))\n",
    "  with tf.name_scope('accuracy'):\n",
    "    accuracy = tf.reduce_mean(tf.cast(correct_prediction, tf.float32))\n",
    "# Create a summary scalar\n",
    "tf.summary.scalar('accuracy', accuracy)\n",
    "\n",
    "# merge all summaries if it exists\n",
    "merged = tf.summary.merge_all()\n",
    "# run summary\n",
    "summary, acc = sess.run([merged, accuracy], feed_dict=feed_dict(False))\n",
    "\n",
    "# write graph and summary to file\n",
    "train_writer = tf.summary.FileWriter('summary', sess.graph)\n",
    "train_writer.add_summary(summary, i)"
   ]
  },
  {
   "cell_type": "code",
   "execution_count": null,
   "metadata": {},
   "outputs": [],
   "source": [
    "tensorboard --logdir=E:\\blahblah\\summary\\"
   ]
  },
  {
   "cell_type": "markdown",
   "metadata": {},
   "source": [
    "## Save and Load Model \n",
    "- Save graph data and checkpoint\n",
    "- load graph data and variables\n",
    "- get tensors by name and use it in feed_dict"
   ]
  },
  {
   "cell_type": "code",
   "execution_count": null,
   "metadata": {},
   "outputs": [],
   "source": [
    "saver = tf.train.Saver()\n",
    "# Save the variables in session  to disk.\n",
    "saver.save(sess, 'model_name')\n",
    "\n",
    "sess=tf.Session()    \n",
    "\n",
    "\n",
    "#load meta graph and restore weights\n",
    "saver = tf.train.import_meta_graph('model_name.meta')\n",
    "saver.restore(sess,tf.train.latest_checkpoint('./'))\n",
    "  \n",
    "# access and create placeholders variables and\n",
    "# create feed-dict to feed new data\n",
    " \n",
    "graph = tf.get_default_graph()\n",
    "placeholder1 = graph.get_tensor_by_name(\"placeholder1:0\")\n",
    "placeholder2 = graph.get_tensor_by_name(\"placeholder2:0\")\n",
    "feed_dict ={placeholder1:13.0,placeholder2:17.0}\n",
    " \n",
    "#Now, access the op that you want to run. \n",
    "optimzer = graph.get_tensor_by_name(\"optimzer:0\")"
   ]
  },
  {
   "cell_type": "markdown",
   "metadata": {},
   "source": [
    "## To be added\n",
    "- Distributed TensorFlow\n",
    "- Datasets"
   ]
  },
  {
   "cell_type": "code",
   "execution_count": null,
   "metadata": {},
   "outputs": [],
   "source": []
  }
 ],
 "metadata": {
  "kernelspec": {
   "display_name": "Python 3",
   "language": "python",
   "name": "python3"
  },
  "language_info": {
   "codemirror_mode": {
    "name": "ipython",
    "version": 3
   },
   "file_extension": ".py",
   "mimetype": "text/x-python",
   "name": "python",
   "nbconvert_exporter": "python",
   "pygments_lexer": "ipython3",
   "version": "3.6.4"
  }
 },
 "nbformat": 4,
 "nbformat_minor": 2
}
